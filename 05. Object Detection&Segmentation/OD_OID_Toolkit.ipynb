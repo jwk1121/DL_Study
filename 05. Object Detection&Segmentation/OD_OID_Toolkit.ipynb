{
  "nbformat": 4,
  "nbformat_minor": 0,
  "metadata": {
    "colab": {
      "provenance": []
    },
    "kernelspec": {
      "name": "python3",
      "display_name": "Python 3"
    },
    "language_info": {
      "name": "python"
    }
  },
  "cells": [
    {
      "cell_type": "markdown",
      "source": [
        "# **OID-Toolkit**"
      ],
      "metadata": {
        "id": "nAUUFMJv80vq"
      }
    },
    {
      "cell_type": "markdown",
      "metadata": {
        "id": "bk6BNrV7qvSe"
      },
      "source": [
        "## [Step 01] OID-Toolkit 설치"
      ]
    },
    {
      "cell_type": "code",
      "metadata": {
        "id": "gh3pNcYFcVyB",
        "colab": {
          "base_uri": "https://localhost:8080/"
        },
        "outputId": "9aa886d7-1e49-47c0-a290-12a4ab2eb089"
      },
      "source": [
        "!git clone https://github.com/EscVM/OIDv4_ToolKit.git"
      ],
      "execution_count": null,
      "outputs": [
        {
          "output_type": "stream",
          "name": "stdout",
          "text": [
            "Cloning into 'OIDv4_ToolKit'...\n",
            "remote: Enumerating objects: 422, done.\u001b[K\n",
            "remote: Total 422 (delta 0), reused 0 (delta 0), pack-reused 422\u001b[K\n",
            "Receiving objects: 100% (422/422), 34.08 MiB | 25.27 MiB/s, done.\n",
            "Resolving deltas: 100% (146/146), done.\n"
          ]
        }
      ]
    },
    {
      "cell_type": "code",
      "metadata": {
        "id": "-1mO-UXvchUK",
        "colab": {
          "base_uri": "https://localhost:8080/"
        },
        "outputId": "8a1bbe42-1409-4da1-f1da-3cacb535cd73"
      },
      "source": [
        "%cd /content/OIDv4_ToolKit"
      ],
      "execution_count": null,
      "outputs": [
        {
          "output_type": "stream",
          "name": "stdout",
          "text": [
            "/content/OIDv4_ToolKit\n"
          ]
        }
      ]
    },
    {
      "cell_type": "code",
      "metadata": {
        "id": "EM0Y37Bwcl0O",
        "colab": {
          "base_uri": "https://localhost:8080/"
        },
        "outputId": "3a42c458-ff69-4536-e5f3-327285fef8f7"
      },
      "source": [
        "!pip install -r requirements.txt"
      ],
      "execution_count": null,
      "outputs": [
        {
          "output_type": "stream",
          "name": "stdout",
          "text": [
            "Looking in indexes: https://pypi.org/simple, https://us-python.pkg.dev/colab-wheels/public/simple/\n",
            "Requirement already satisfied: pandas in /usr/local/lib/python3.8/dist-packages (from -r requirements.txt (line 1)) (1.3.5)\n",
            "Requirement already satisfied: numpy in /usr/local/lib/python3.8/dist-packages (from -r requirements.txt (line 2)) (1.21.6)\n",
            "Collecting awscli\n",
            "  Downloading awscli-1.27.73-py3-none-any.whl (4.0 MB)\n",
            "\u001b[2K     \u001b[90m━━━━━━━━━━━━━━━━━━━━━━━━━━━━━━━━━━━━━━━━\u001b[0m \u001b[32m4.0/4.0 MB\u001b[0m \u001b[31m72.3 MB/s\u001b[0m eta \u001b[36m0:00:00\u001b[0m\n",
            "\u001b[?25hRequirement already satisfied: urllib3 in /usr/local/lib/python3.8/dist-packages (from -r requirements.txt (line 5)) (1.24.3)\n",
            "Requirement already satisfied: tqdm in /usr/local/lib/python3.8/dist-packages (from -r requirements.txt (line 7)) (4.64.1)\n",
            "Requirement already satisfied: opencv-python in /usr/local/lib/python3.8/dist-packages (from -r requirements.txt (line 9)) (4.6.0.66)\n",
            "Requirement already satisfied: pytz>=2017.3 in /usr/local/lib/python3.8/dist-packages (from pandas->-r requirements.txt (line 1)) (2022.7.1)\n",
            "Requirement already satisfied: python-dateutil>=2.7.3 in /usr/local/lib/python3.8/dist-packages (from pandas->-r requirements.txt (line 1)) (2.8.2)\n",
            "Collecting s3transfer<0.7.0,>=0.6.0\n",
            "  Downloading s3transfer-0.6.0-py3-none-any.whl (79 kB)\n",
            "\u001b[2K     \u001b[90m━━━━━━━━━━━━━━━━━━━━━━━━━━━━━━━━━━━━━━━━\u001b[0m \u001b[32m79.6/79.6 KB\u001b[0m \u001b[31m11.6 MB/s\u001b[0m eta \u001b[36m0:00:00\u001b[0m\n",
            "\u001b[?25hRequirement already satisfied: docutils<0.17,>=0.10 in /usr/local/lib/python3.8/dist-packages (from awscli->-r requirements.txt (line 3)) (0.16)\n",
            "Collecting PyYAML<5.5,>=3.10\n",
            "  Downloading PyYAML-5.4.1-cp38-cp38-manylinux1_x86_64.whl (662 kB)\n",
            "\u001b[2K     \u001b[90m━━━━━━━━━━━━━━━━━━━━━━━━━━━━━━━━━━━━━━\u001b[0m \u001b[32m662.4/662.4 KB\u001b[0m \u001b[31m24.2 MB/s\u001b[0m eta \u001b[36m0:00:00\u001b[0m\n",
            "\u001b[?25hCollecting colorama<0.4.5,>=0.2.5\n",
            "  Downloading colorama-0.4.4-py2.py3-none-any.whl (16 kB)\n",
            "Collecting botocore==1.29.73\n",
            "  Downloading botocore-1.29.73-py3-none-any.whl (10.4 MB)\n",
            "\u001b[2K     \u001b[90m━━━━━━━━━━━━━━━━━━━━━━━━━━━━━━━━━━━━━━━━\u001b[0m \u001b[32m10.4/10.4 MB\u001b[0m \u001b[31m91.1 MB/s\u001b[0m eta \u001b[36m0:00:00\u001b[0m\n",
            "\u001b[?25hCollecting rsa<4.8,>=3.1.2\n",
            "  Downloading rsa-4.7.2-py3-none-any.whl (34 kB)\n",
            "Collecting urllib3\n",
            "  Downloading urllib3-1.26.14-py2.py3-none-any.whl (140 kB)\n",
            "\u001b[2K     \u001b[90m━━━━━━━━━━━━━━━━━━━━━━━━━━━━━━━━━━━━━━\u001b[0m \u001b[32m140.6/140.6 KB\u001b[0m \u001b[31m19.5 MB/s\u001b[0m eta \u001b[36m0:00:00\u001b[0m\n",
            "\u001b[?25hCollecting jmespath<2.0.0,>=0.7.1\n",
            "  Downloading jmespath-1.0.1-py3-none-any.whl (20 kB)\n",
            "Requirement already satisfied: six>=1.5 in /usr/local/lib/python3.8/dist-packages (from python-dateutil>=2.7.3->pandas->-r requirements.txt (line 1)) (1.15.0)\n",
            "Requirement already satisfied: pyasn1>=0.1.3 in /usr/local/lib/python3.8/dist-packages (from rsa<4.8,>=3.1.2->awscli->-r requirements.txt (line 3)) (0.4.8)\n",
            "Installing collected packages: urllib3, rsa, PyYAML, jmespath, colorama, botocore, s3transfer, awscli\n",
            "  Attempting uninstall: urllib3\n",
            "    Found existing installation: urllib3 1.24.3\n",
            "    Uninstalling urllib3-1.24.3:\n",
            "      Successfully uninstalled urllib3-1.24.3\n",
            "  Attempting uninstall: rsa\n",
            "    Found existing installation: rsa 4.9\n",
            "    Uninstalling rsa-4.9:\n",
            "      Successfully uninstalled rsa-4.9\n",
            "  Attempting uninstall: PyYAML\n",
            "    Found existing installation: PyYAML 6.0\n",
            "    Uninstalling PyYAML-6.0:\n",
            "      Successfully uninstalled PyYAML-6.0\n",
            "Successfully installed PyYAML-5.4.1 awscli-1.27.73 botocore-1.29.73 colorama-0.4.4 jmespath-1.0.1 rsa-4.7.2 s3transfer-0.6.0 urllib3-1.26.14\n"
          ]
        }
      ]
    },
    {
      "cell_type": "markdown",
      "metadata": {
        "id": "EsBNLKIBvgeZ"
      },
      "source": [
        "## [Step 02] OID-Toolkit 테스트"
      ]
    },
    {
      "cell_type": "code",
      "metadata": {
        "id": "MizbuGhVc3_X",
        "colab": {
          "base_uri": "https://localhost:8080/"
        },
        "outputId": "21f9e820-b57c-47bd-d67a-98df6b39283f"
      },
      "source": [
        "!python main.py -h # h를 사용하면 어떻게 생겼는지 보여줌(help)"
      ],
      "execution_count": null,
      "outputs": [
        {
          "output_type": "stream",
          "name": "stdout",
          "text": [
            "usage: main.py\n",
            "       [-h]\n",
            "       [--Dataset /path/to/OID/csv/]\n",
            "       [-y]\n",
            "       [--classes list of classes [list of classes ...]]\n",
            "       [--type_csv 'train' or 'validation' or 'test' or 'all']\n",
            "       [--sub Subset of human verified images or machine generated h or m)]\n",
            "       [--image_IsOccluded 1 or 0]\n",
            "       [--image_IsTruncated 1 or 0]\n",
            "       [--image_IsGroupOf 1 or 0]\n",
            "       [--image_IsDepiction 1 or 0]\n",
            "       [--image_IsInside 1 or 0]\n",
            "       [--multiclasses 0 (default or 1]\n",
            "       [--n_threads [default 20]]\n",
            "       [--noLabels]\n",
            "       [--limit integer number]\n",
            "       <command>\n",
            "       'downloader',\n",
            "       'visualizer'\n",
            "       or\n",
            "       'ill_downloader'.\n",
            "\n",
            "Open Image\n",
            "Dataset\n",
            "Downloader\n",
            "\n",
            "positional arguments:\n",
            "  <command> 'downloader', 'visualizer' or 'ill_downloader'.\n",
            "    'downloader\n",
            "    ', 'visuali\n",
            "    zer' or 'il\n",
            "    l_downloade\n",
            "    r'.\n",
            "\n",
            "optional arguments:\n",
            "  -h, --help\n",
            "    show this\n",
            "    help\n",
            "    message and\n",
            "    exit\n",
            "  --Dataset /path/to/OID/csv/\n",
            "    Directory\n",
            "    of the OID\n",
            "    dataset\n",
            "    folder\n",
            "  -y, --yes\n",
            "    ans Yes to\n",
            "    possible\n",
            "    download of\n",
            "    missing\n",
            "    files\n",
            "  --classes list of classes [list of classes ...]\n",
            "    Sequence of\n",
            "    'strings'\n",
            "    of the\n",
            "    wanted\n",
            "    classes\n",
            "  --type_csv 'train' or 'validation' or 'test' or 'all'\n",
            "    From what\n",
            "    csv search\n",
            "    the images\n",
            "  --sub Subset of human verified images or machine generated (h or m)\n",
            "    Download\n",
            "    from the\n",
            "    human\n",
            "    verified\n",
            "    dataset or\n",
            "    from the\n",
            "    machine\n",
            "    generated\n",
            "    one.\n",
            "  --image_IsOccluded 1 or 0\n",
            "    Optional ch\n",
            "    aracteristi\n",
            "    c of the\n",
            "    images.\n",
            "    Indicates\n",
            "    that the\n",
            "    object is\n",
            "    occluded by\n",
            "    another\n",
            "    object in\n",
            "    the image.\n",
            "  --image_IsTruncated 1 or 0\n",
            "    Optional ch\n",
            "    aracteristi\n",
            "    c of the\n",
            "    images.\n",
            "    Indicates\n",
            "    that the\n",
            "    object\n",
            "    extends\n",
            "    beyond the\n",
            "    boundary of\n",
            "    the image.\n",
            "  --image_IsGroupOf 1 or 0\n",
            "    Optional ch\n",
            "    aracteristi\n",
            "    c of the\n",
            "    images.\n",
            "    Indicates\n",
            "    that the\n",
            "    box spans a\n",
            "    group of\n",
            "    objects\n",
            "    (min 5).\n",
            "  --image_IsDepiction 1 or 0\n",
            "    Optional ch\n",
            "    aracteristi\n",
            "    c of the\n",
            "    images.\n",
            "    Indicates\n",
            "    that the\n",
            "    object is a\n",
            "    depiction.\n",
            "  --image_IsInside 1 or 0\n",
            "    Optional ch\n",
            "    aracteristi\n",
            "    c of the\n",
            "    images.\n",
            "    Indicates a\n",
            "    picture\n",
            "    taken from\n",
            "    the inside\n",
            "    of the\n",
            "    object.\n",
            "  --multiclasses 0 (default) or 1\n",
            "    Download\n",
            "    different\n",
            "    classes\n",
            "    separately\n",
            "    (0) or\n",
            "    together\n",
            "    (1)\n",
            "  --n_threads [default 20]\n",
            "    Num of the\n",
            "    threads to\n",
            "    use\n",
            "  --noLabels\n",
            "    No labels\n",
            "    creations\n",
            "  --limit integer number\n",
            "    Optional\n",
            "    limit on\n",
            "    number of\n",
            "    images to\n",
            "    download\n"
          ]
        }
      ]
    },
    {
      "cell_type": "markdown",
      "metadata": {
        "id": "_L84lhsvwUDJ"
      },
      "source": [
        "## [Step 03] 다운로드 데이터세트"
      ]
    },
    {
      "cell_type": "code",
      "metadata": {
        "id": "UDU9liB9hWru",
        "colab": {
          "base_uri": "https://localhost:8080/"
        },
        "outputId": "8d878e31-993c-482d-ac1b-bbf5607a99fa"
      },
      "source": [
        "!python main.py downloader --classes Coin Dice Tennis_ball --type_csv train --multiclasses 1 --limit 9 # class는 coin dice tennisball이 있는데 이를 csv형태로 갖고 올것"
      ],
      "execution_count": null,
      "outputs": [
        {
          "output_type": "stream",
          "name": "stdout",
          "text": [
            "\u001b[92m\n",
            "\t\t   ___   _____  ______            _    _    \n",
            "\t\t .'   `.|_   _||_   _ `.         | |  | |   \n",
            "\t\t/  .-.  \\ | |    | | `. \\ _   __ | |__| |_  \n",
            "\t\t| |   | | | |    | |  | |[ \\ [  ]|____   _| \n",
            "\t\t\\  `-'  /_| |_  _| |_.' / \\ \\/ /     _| |_  \n",
            "\t\t `.___.'|_____||______.'   \\__/     |_____|\n",
            "\t\u001b[0m\n",
            "\u001b[92m\n",
            "             _____                    _                 _             \n",
            "            (____ \\                  | |               | |            \n",
            "             _   \\ \\ ___  _ _ _ ____ | | ___   ____  _ | | ____  ____ \n",
            "            | |   | / _ \\| | | |  _ \\| |/ _ \\ / _  |/ || |/ _  )/ ___)\n",
            "            | |__/ / |_| | | | | | | | | |_| ( ( | ( (_| ( (/ /| |    \n",
            "            |_____/ \\___/ \\____|_| |_|_|\\___/ \\_||_|\\____|\\____)_|    \n",
            "                                                          \n",
            "        \u001b[0m\n",
            "    [INFO] | Downloading ['Coin', 'Dice', 'Tennis ball'] together.\u001b[0m\n",
            "\u001b[91m   [ERROR] | Missing the class-descriptions-boxable.csv file.\u001b[0m\n",
            "\u001b[94m[DOWNLOAD] | Do you want to download the missing file? [Y/n] \u001b[0mY\n",
            "...145%, 0 MB, 46537 KB/s, 0 seconds passed\n",
            "\u001b[94m[DOWNLOAD] | File class-descriptions-boxable.csv downloaded into OID/csv_folder/class-descriptions-boxable.csv.\u001b[0m\n",
            "\u001b[91m   [ERROR] | Missing the train-annotations-bbox.csv file.\u001b[0m\n",
            "\u001b[94m[DOWNLOAD] | Do you want to download the missing file? [Y/n] \u001b[0mY\n",
            "...100%, 1138 MB, 35666 KB/s, 32 seconds passed\n",
            "\u001b[94m[DOWNLOAD] | File train-annotations-bbox.csv downloaded into OID/csv_folder/train-annotations-bbox.csv.\u001b[0m\n",
            "\n",
            "\u001b[95mCoin\u001b[0m\n",
            "    [INFO] | Downloading train images.\u001b[0m\n",
            "    [INFO] | [INFO] Found 1224 online images for train.\u001b[0m\n",
            "    [INFO] | Limiting to 9 images.\u001b[0m\n",
            "    [INFO] | Download of 9 images in train.\u001b[0m\n",
            "100% 9/9 [00:05<00:00,  1.56it/s]\n",
            "    [INFO] | Done!\u001b[0m\n",
            "    [INFO] | Creating labels for Coin of train.\u001b[0m\n",
            "    [INFO] | Labels creation completed.\u001b[0m\n",
            "\n",
            "\u001b[95mDice\u001b[0m\n",
            "    [INFO] | Downloading train images.\u001b[0m\n",
            "    [INFO] | [INFO] Found 214 online images for train.\u001b[0m\n",
            "    [INFO] | Limiting to 9 images.\u001b[0m\n",
            "    [INFO] | Download of 9 images in train.\u001b[0m\n",
            "100% 9/9 [00:05<00:00,  1.74it/s]\n",
            "    [INFO] | Done!\u001b[0m\n",
            "    [INFO] | Creating labels for Dice of train.\u001b[0m\n",
            "    [INFO] | Labels creation completed.\u001b[0m\n",
            "\n",
            "\u001b[95mTennis ball\u001b[0m\n",
            "    [INFO] | Downloading train images.\u001b[0m\n",
            "    [INFO] | [INFO] Found 385 online images for train.\u001b[0m\n",
            "    [INFO] | Limiting to 9 images.\u001b[0m\n",
            "    [INFO] | Download of 9 images in train.\u001b[0m\n",
            "100% 9/9 [00:04<00:00,  2.17it/s]\n",
            "    [INFO] | Done!\u001b[0m\n",
            "    [INFO] | Creating labels for Tennis ball of train.\u001b[0m\n",
            "    [INFO] | Labels creation completed.\u001b[0m\n"
          ]
        }
      ]
    },
    {
      "cell_type": "markdown",
      "metadata": {
        "id": "qBiP8PjSoxBd"
      },
      "source": [
        "## [Step 04] Download Dataset to PC"
      ]
    },
    {
      "cell_type": "code",
      "metadata": {
        "id": "8CmHzbVzwzH8",
        "colab": {
          "base_uri": "https://localhost:8080/"
        },
        "outputId": "e441de5e-2145-4096-fb61-43bb180db1f1"
      },
      "source": [
        "!zip -r /content/Dataset.zip /content/OIDv4_ToolKit/OID/Dataset/train/Coin_Dice_Tennisball # 데이터를 zip형태로 다운로드 받는 법\n",
        "# zip으로 받은 파일을 -> roboflow에 이미지와 txt파일을 import시킨후 원하는 형태로 export시키면 됨"
      ],
      "execution_count": null,
      "outputs": [
        {
          "output_type": "stream",
          "name": "stdout",
          "text": [
            "  adding: content/OIDv4_ToolKit/OID/Dataset/train/Coin_Dice_Tennisball/ (stored 0%)\n",
            "  adding: content/OIDv4_ToolKit/OID/Dataset/train/Coin_Dice_Tennisball/Label/ (stored 0%)\n"
          ]
        }
      ]
    }
  ]
}